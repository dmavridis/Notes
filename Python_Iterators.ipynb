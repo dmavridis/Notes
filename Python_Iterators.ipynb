{
 "cells": [
  {
   "cell_type": "markdown",
   "metadata": {},
   "source": [
    "## Introduction\n",
    "### Need to know\n",
    "- Functions\n",
    "- Classes\n",
    "- Objects\n",
    "- Methods\n",
    "- Decorators\n",
    "\n",
    "# Generator functions and expressions\n",
    "## Generator Overview\n",
    "### Iterator uses\n",
    "- Large Fata\n",
    "- Memory - intensive operations\n",
    "\n",
    "### Iterators\n",
    "- Maintain state\n",
    "- Use 'lazy evaluation'\n",
    "- Doesn't store sequence in memory\n",
    "\n",
    "** next() method**: Yields the next value\n",
    "\n",
    "** iter() method**: Returns an operator\n",
    "\n",
    "## Build a generator funnction\n",
    "** yield keyword **\n",
    "### Example even integer function"
   ]
  },
  {
   "cell_type": "code",
   "execution_count": 1,
   "metadata": {
    "collapsed": true
   },
   "outputs": [],
   "source": [
    "# function solution\n",
    "def even_integers_function(n):\n",
    "    result = []\n",
    "    for i in range(n):\n",
    "        if i % 2 == 0:\n",
    "            result.append(i)\n",
    "    return result"
   ]
  },
  {
   "cell_type": "markdown",
   "metadata": {},
   "source": [
    "### Example even integer generator"
   ]
  },
  {
   "cell_type": "code",
   "execution_count": 2,
   "metadata": {
    "collapsed": true
   },
   "outputs": [],
   "source": [
    "# generator solution\n",
    "def even_integers_generator(n):\n",
    "    for i in range(n):\n",
    "        if i % 2 == 0:\n",
    "            yield i"
   ]
  },
  {
   "cell_type": "code",
   "execution_count": 3,
   "metadata": {},
   "outputs": [
    {
     "data": {
      "text/plain": [
       "<generator object even_integers_generator at 0x00000000050BFA40>"
      ]
     },
     "execution_count": 3,
     "metadata": {},
     "output_type": "execute_result"
    }
   ],
   "source": [
    "even_integers_generator(10)"
   ]
  },
  {
   "cell_type": "code",
   "execution_count": 4,
   "metadata": {},
   "outputs": [
    {
     "data": {
      "text/plain": [
       "[0, 2, 4, 6, 8]"
      ]
     },
     "execution_count": 4,
     "metadata": {},
     "output_type": "execute_result"
    }
   ],
   "source": [
    "list(even_integers_generator(10))"
   ]
  },
  {
   "cell_type": "markdown",
   "metadata": {},
   "source": [
    "## Use a Generator Expression\n",
    "- Can be passes to a function\n",
    "- Don't need parentheses when passed\n"
   ]
  },
  {
   "cell_type": "code",
   "execution_count": 5,
   "metadata": {},
   "outputs": [
    {
     "data": {
      "text/plain": [
       "[0, 2, 4, 6, 8]"
      ]
     },
     "execution_count": 5,
     "metadata": {},
     "output_type": "execute_result"
    }
   ],
   "source": [
    "# list comprehension\n",
    "# newlist = [item.upper() for item in collection]\n",
    "\n",
    "# generator expression\n",
    "# (item.upper() for item in collection)\n",
    "\n",
    "even_integers = (n for n in range(10) if n%2==0)\n",
    "list(even_integers)"
   ]
  },
  {
   "cell_type": "code",
   "execution_count": 6,
   "metadata": {},
   "outputs": [
    {
     "data": {
      "text/plain": [
       "[7, 22, 4, 99, 3, 5]"
      ]
     },
     "execution_count": 6,
     "metadata": {},
     "output_type": "execute_result"
    }
   ],
   "source": [
    "#list of mixed format numbers\n",
    "numbers = [7, 22, 4.5, 99.7, '3', '5']\n",
    "\n",
    "#convert numbers to integers using expression\n",
    "integers = (int(n) for n in numbers)\n",
    "list(integers)"
   ]
  },
  {
   "cell_type": "code",
   "execution_count": 7,
   "metadata": {},
   "outputs": [
    {
     "data": {
      "text/plain": [
       "['ADAM', 'ANNE', 'BARRY', 'BRIANNE', 'CHARLIE', 'CASSANDRA', 'DAVID', 'DANA']"
      ]
     },
     "execution_count": 7,
     "metadata": {},
     "output_type": "execute_result"
    }
   ],
   "source": [
    "names_list = ['Adam','Anne','Barry','Brianne','Charlie','Cassandra','David','Dana']\n",
    "\n",
    "#Converts names to uppercase\n",
    "uppercase_names = (name.upper() for name in names_list)\n",
    "list(uppercase_names)"
   ]
  },
  {
   "cell_type": "code",
   "execution_count": 8,
   "metadata": {},
   "outputs": [
    {
     "ename": "NameError",
     "evalue": "name 'upper_case' is not defined",
     "output_type": "error",
     "traceback": [
      "\u001b[0;31m---------------------------------------------------------------------------\u001b[0m",
      "\u001b[0;31mNameError\u001b[0m                                 Traceback (most recent call last)",
      "\u001b[0;32m<ipython-input-8-c5212029847e>\u001b[0m in \u001b[0;36m<module>\u001b[0;34m()\u001b[0m\n\u001b[1;32m      6\u001b[0m \u001b[1;31m# breaking it up\u001b[0m\u001b[1;33m\u001b[0m\u001b[1;33m\u001b[0m\u001b[0m\n\u001b[1;32m      7\u001b[0m \u001b[0muppercase\u001b[0m \u001b[1;33m=\u001b[0m \u001b[1;33m(\u001b[0m\u001b[0mname\u001b[0m\u001b[1;33m.\u001b[0m\u001b[0mupper\u001b[0m\u001b[1;33m(\u001b[0m\u001b[1;33m)\u001b[0m \u001b[1;32mfor\u001b[0m \u001b[0mname\u001b[0m \u001b[1;32min\u001b[0m \u001b[0mnames_list\u001b[0m\u001b[1;33m)\u001b[0m\u001b[1;33m\u001b[0m\u001b[0m\n\u001b[0;32m----> 8\u001b[0;31m \u001b[0mreverse_uppercase\u001b[0m \u001b[1;33m=\u001b[0m \u001b[1;33m(\u001b[0m\u001b[0mname\u001b[0m\u001b[1;33m[\u001b[0m\u001b[1;33m:\u001b[0m\u001b[1;33m:\u001b[0m\u001b[1;33m-\u001b[0m\u001b[1;36m1\u001b[0m\u001b[1;33m]\u001b[0m \u001b[1;32mfor\u001b[0m \u001b[0mname\u001b[0m \u001b[1;32min\u001b[0m \u001b[0mupper_case\u001b[0m\u001b[1;33m)\u001b[0m\u001b[1;33m\u001b[0m\u001b[0m\n\u001b[0m",
      "\u001b[0;31mNameError\u001b[0m: name 'upper_case' is not defined"
     ]
    }
   ],
   "source": [
    "# list of names\n",
    "names_list = ['Adam','Anne','Barry','Brianne','Charlie','Cassandra','David','Dana']\n",
    "# too long\n",
    "# reverse_uppercase = (name[::-1] for name in (name.upper() for name in names_list))\n",
    "\n",
    "# breaking it up \n",
    "uppercase = (name.upper() for name in names_list)\n",
    "reverse_uppercase = (name[::-1] for name in upper_case)\n"
   ]
  },
  {
   "cell_type": "markdown",
   "metadata": {},
   "source": [
    "## Use a Generator Object\n",
    "- Cannot be reused\n",
    "- Calling next() on an exhausted generator raises StopIteration\n",
    "- The for loop can handle StopIteration"
   ]
  },
  {
   "cell_type": "code",
   "execution_count": 71,
   "metadata": {
    "collapsed": true
   },
   "outputs": [],
   "source": [
    "# generator solution\n",
    "def even_integers_generator(n):\n",
    "    for i in range(n):\n",
    "        if i % 2 == 0:\n",
    "            yield i\n",
    "            \n",
    "integers = even_integers_generator(10)"
   ]
  },
  {
   "cell_type": "code",
   "execution_count": 76,
   "metadata": {},
   "outputs": [
    {
     "data": {
      "text/plain": [
       "8"
      ]
     },
     "execution_count": 76,
     "metadata": {},
     "output_type": "execute_result"
    }
   ],
   "source": [
    "next(integers)"
   ]
  },
  {
   "cell_type": "markdown",
   "metadata": {},
   "source": [
    "## Challenge\n",
    "Create a function to build a generator object of Fibinacci sequence values "
   ]
  },
  {
   "cell_type": "code",
   "execution_count": 55,
   "metadata": {
    "collapsed": true
   },
   "outputs": [],
   "source": [
    "def fibonacci_gen():\n",
    "    trailing, lead = 0 ,1 \n",
    "    while True:\n",
    "        yield lead\n",
    "        trailing, lead = lead, trailing + lead\n",
    "        "
   ]
  },
  {
   "cell_type": "code",
   "execution_count": 68,
   "metadata": {
    "collapsed": true
   },
   "outputs": [],
   "source": [
    "fib = fibonacci_gen()"
   ]
  },
  {
   "cell_type": "code",
   "execution_count": 69,
   "metadata": {},
   "outputs": [
    {
     "name": "stdout",
     "output_type": "stream",
     "text": [
      "1\n",
      "1\n",
      "2\n",
      "3\n",
      "5\n",
      "8\n",
      "13\n",
      "21\n",
      "34\n",
      "55\n"
     ]
    }
   ],
   "source": [
    "for _ in range(10):\n",
    "    print(next(fib))"
   ]
  },
  {
   "cell_type": "markdown",
   "metadata": {},
   "source": [
    "## Build a generator pipeline\n",
    "- Several pipes can be linked together\n",
    "- Items flow one by one through the entire pipeline\n",
    "- Pipeline functionality can be packaged into callable functions"
   ]
  },
  {
   "cell_type": "code",
   "execution_count": 77,
   "metadata": {
    "collapsed": true
   },
   "outputs": [],
   "source": [
    "# using generators to find the longest name\n",
    "\n",
    "full_names = (name.strip() for name in open('names.txt'))\n",
    "lengths = ((name, len(name)) for name in full_names)\n",
    "longest = max(lengths, key=lambda x:x[1])\n",
    "\n",
    "# Not executable code without names.txt"
   ]
  },
  {
   "cell_type": "code",
   "execution_count": null,
   "metadata": {
    "collapsed": true
   },
   "outputs": [],
   "source": [
    "# adding separate_names generator as another stage in pipeline\n",
    "\n",
    "def separate_names(names):\n",
    "    for full_name in names:\n",
    "        for name in full_name.split(' '):\n",
    "            yield name\n",
    "\n",
    "full_names = (name.strip() for name in open('names.txt'))\n",
    "names = separate_names(full_names)\n",
    "lengths = ((name, len(name)) for name in names)\n",
    "longest = max(lengths, key=lambda x:x[1])"
   ]
  },
  {
   "cell_type": "code",
   "execution_count": null,
   "metadata": {
    "collapsed": true
   },
   "outputs": [],
   "source": [
    "\n",
    "def separate_names(names):\n",
    "    for full_name in names:\n",
    "        for name in full_name.split(' '):\n",
    "            yield name\n",
    "\n",
    "def get_longest(namelist):\n",
    "    full_names = (name.strip() for name in open(namelist))\n",
    "    names = separate_names(full_names)\n",
    "    lengths = ((name, len(name)) for name in names)\n",
    "    return max(lengths, key=lambda x:x[1])"
   ]
  },
  {
   "cell_type": "markdown",
   "metadata": {},
   "source": [
    "# Using Generators as Context Managers\n",
    "## Overview\n",
    "### Context Managers\n",
    "- Control structure\n",
    "- Used after 'with'\n",
    "- Setup\n",
    "- Yield comtrol\n",
    "- Wrap-up\n",
    "\n",
    "** A Python object that is able to act as a control structure when used after the _with()_ statement ** \n",
    "\n",
    "- Opening a file: _With open('filename.txt')_\n",
    "\n",
    "\n",
    "1. Setup: Try\n",
    "2. Handoff: Yield\n",
    "3. Wrap-up: finally\n",
    "\n",
    "### Basic Framework"
   ]
  },
  {
   "cell_type": "code",
   "execution_count": 78,
   "metadata": {
    "scrolled": true
   },
   "outputs": [
    {
     "ename": "SyntaxError",
     "evalue": "unexpected EOF while parsing (<ipython-input-78-55676da62325>, line 9)",
     "output_type": "error",
     "traceback": [
      "\u001b[0;36m  File \u001b[0;32m\"<ipython-input-78-55676da62325>\"\u001b[0;36m, line \u001b[0;32m9\u001b[0m\n\u001b[0;31m    # wrap up code\u001b[0m\n\u001b[0m                  ^\u001b[0m\n\u001b[0;31mSyntaxError\u001b[0m\u001b[0;31m:\u001b[0m unexpected EOF while parsing\n"
     ]
    }
   ],
   "source": [
    "# Context Manager\n",
    "\n",
    "@contextmanager\n",
    "def simple_cm(n):\n",
    "    try:\n",
    "        # setup code\n",
    "        yield\n",
    "    finally:\n",
    "        # wrap up code"
   ]
  },
  {
   "cell_type": "markdown",
   "metadata": {},
   "source": [
    "## Build a context manager using yield"
   ]
  },
  {
   "cell_type": "code",
   "execution_count": 80,
   "metadata": {
    "collapsed": true
   },
   "outputs": [],
   "source": [
    "# increments some_property by 1\n",
    "\n",
    "from contextlib import contextmanager\n",
    "\n",
    "@contextmanager\n",
    "def simple_context_manager(obj):\n",
    "    try:\n",
    "        obj.some_property += 1\n",
    "        yield\n",
    "    finally:\n",
    "        obj.some_property -= 1\n",
    "        \n",
    "class Some_obj(object):\n",
    "    def __init__(self,arg):\n",
    "        self.some_property = arg"
   ]
  },
  {
   "cell_type": "code",
   "execution_count": 83,
   "metadata": {},
   "outputs": [
    {
     "data": {
      "text/plain": [
       "5"
      ]
     },
     "execution_count": 83,
     "metadata": {},
     "output_type": "execute_result"
    }
   ],
   "source": [
    "obj = Some_obj(5)\n",
    "obj.some_property"
   ]
  },
  {
   "cell_type": "code",
   "execution_count": 84,
   "metadata": {},
   "outputs": [
    {
     "name": "stdout",
     "output_type": "stream",
     "text": [
      "6\n"
     ]
    }
   ],
   "source": [
    "with simple_context_manager(obj):\n",
    "    print(obj.some_property)"
   ]
  },
  {
   "cell_type": "code",
   "execution_count": 85,
   "metadata": {},
   "outputs": [
    {
     "data": {
      "text/plain": [
       "5"
      ]
     },
     "execution_count": 85,
     "metadata": {},
     "output_type": "execute_result"
    }
   ],
   "source": [
    "obj.some_property"
   ]
  },
  {
   "cell_type": "markdown",
   "metadata": {},
   "source": [
    "### Using Context managers\n",
    "- The @contextmanager is important\n",
    "- The contextmanager() function is called after a with statement\n",
    "- The indented 'with' block executes at yield statement\n",
    "\n",
    "### Use the yielded value"
   ]
  },
  {
   "cell_type": "code",
   "execution_count": 87,
   "metadata": {
    "collapsed": true
   },
   "outputs": [],
   "source": [
    "from time import time\n",
    "from contextlib import contextmanager\n",
    "\n",
    "HEADER = \"this is the header \\n\"\n",
    "FOOTER = \"\\nthis is the footer \\n\"\n",
    "\n",
    "\n",
    "@contextmanager\n",
    "def new_log_file(name):    \n",
    "    try:\n",
    "        logname = name\n",
    "        f = open(logname, 'w')\n",
    "        f.write(HEADER)\n",
    "        yield f\n",
    "    finally:\n",
    "        f.write(FOOTER)\n",
    "        print(\"logfile created\")\n",
    "        f.close()"
   ]
  },
  {
   "cell_type": "code",
   "execution_count": 88,
   "metadata": {},
   "outputs": [
    {
     "name": "stdout",
     "output_type": "stream",
     "text": [
      "logfile created\n"
     ]
    }
   ],
   "source": [
    "with new_log_file('logfile') as file:\n",
    "    file.write('this is the body')\n",
    "    "
   ]
  },
  {
   "cell_type": "markdown",
   "metadata": {},
   "source": [
    "# Coroutines\n",
    "1. Generators: produce values\n",
    "2. Coroutines: consume values\n",
    "\n",
    "## Overview\n",
    "- Receive values\n",
    "- May not return anything\n",
    "- Not for iteration\n",
    "\n",
    "A **coroutine** is built from a generator but it is **conceptually different**\n",
    "\n",
    "### Coroutine design\n",
    "- Repeatedly receives input\n",
    "- Processes input\n",
    "- Stops at yield statement\n",
    "\n",
    "**Funtion**\n",
    "It's the same function each time it is called\n",
    "\n",
    "**Coroutine**\n",
    "Persistent properties can be changed and altered\n",
    "\n",
    "\n",
    "**send() method** Added to generators for coroutine functionality\n",
    "\n",
    "### Yield in Coroutines\n",
    "- Pauses flow\n",
    "- Caprtures sent values\n",
    "\n",
    "## Create a coroutine\n"
   ]
  },
  {
   "cell_type": "code",
   "execution_count": 90,
   "metadata": {
    "collapsed": true
   },
   "outputs": [],
   "source": [
    "def coroutine_example():\n",
    "    while True:\n",
    "        x = yield\n",
    "        #do something with x\n",
    "        print(x)"
   ]
  },
  {
   "cell_type": "code",
   "execution_count": 93,
   "metadata": {},
   "outputs": [
    {
     "ename": "TypeError",
     "evalue": "can't send non-None value to a just-started generator",
     "output_type": "error",
     "traceback": [
      "\u001b[0;31m---------------------------------------------------------------------------\u001b[0m",
      "\u001b[0;31mTypeError\u001b[0m                                 Traceback (most recent call last)",
      "\u001b[0;32m<ipython-input-93-f9ca3e0b487e>\u001b[0m in \u001b[0;36m<module>\u001b[0;34m()\u001b[0m\n\u001b[1;32m      1\u001b[0m \u001b[0mc\u001b[0m \u001b[1;33m=\u001b[0m \u001b[0mcoroutine_example\u001b[0m\u001b[1;33m(\u001b[0m\u001b[1;33m)\u001b[0m\u001b[1;33m\u001b[0m\u001b[0m\n\u001b[0;32m----> 2\u001b[0;31m \u001b[0mc\u001b[0m\u001b[1;33m.\u001b[0m\u001b[0msend\u001b[0m\u001b[1;33m(\u001b[0m\u001b[1;36m10\u001b[0m\u001b[1;33m)\u001b[0m\u001b[1;33m\u001b[0m\u001b[0m\n\u001b[0m",
      "\u001b[0;31mTypeError\u001b[0m: can't send non-None value to a just-started generator"
     ]
    }
   ],
   "source": [
    "c = coroutine_example()\n",
    "c.send(10)"
   ]
  },
  {
   "cell_type": "code",
   "execution_count": 96,
   "metadata": {},
   "outputs": [
    {
     "name": "stdout",
     "output_type": "stream",
     "text": [
      "None\n",
      "10\n"
     ]
    }
   ],
   "source": [
    "next(c)\n",
    "c.send(10)"
   ]
  },
  {
   "cell_type": "code",
   "execution_count": 92,
   "metadata": {
    "collapsed": true
   },
   "outputs": [],
   "source": [
    "def counter(string):\n",
    "    count = 0\n",
    "    try:\n",
    "        while True:\n",
    "            item = yield\n",
    "            if isinstance(item, str):\n",
    "                if item in string:\n",
    "                    count += 1\n",
    "                    print(item)\n",
    "                else:\n",
    "                    print('No Match')\n",
    "            else:\n",
    "                print('Not a string')\n",
    "    except GeneratorExit:\n",
    "        print(count)"
   ]
  },
  {
   "cell_type": "code",
   "execution_count": 97,
   "metadata": {
    "collapsed": true
   },
   "outputs": [],
   "source": [
    "c = counter('California')\n",
    "next(c)"
   ]
  },
  {
   "cell_type": "code",
   "execution_count": 98,
   "metadata": {},
   "outputs": [
    {
     "name": "stdout",
     "output_type": "stream",
     "text": [
      "Cali\n"
     ]
    }
   ],
   "source": [
    "c.send('Cali')"
   ]
  },
  {
   "cell_type": "code",
   "execution_count": 99,
   "metadata": {},
   "outputs": [
    {
     "name": "stdout",
     "output_type": "stream",
     "text": [
      "nia\n"
     ]
    }
   ],
   "source": [
    "c.send('nia')"
   ]
  },
  {
   "cell_type": "code",
   "execution_count": 100,
   "metadata": {},
   "outputs": [
    {
     "name": "stdout",
     "output_type": "stream",
     "text": [
      "No Match\n"
     ]
    }
   ],
   "source": [
    "c.send('Hawaii')"
   ]
  },
  {
   "cell_type": "code",
   "execution_count": 101,
   "metadata": {},
   "outputs": [
    {
     "name": "stdout",
     "output_type": "stream",
     "text": [
      "Not a string\n"
     ]
    }
   ],
   "source": [
    "c.send(1234)"
   ]
  },
  {
   "cell_type": "code",
   "execution_count": 110,
   "metadata": {
    "collapsed": true
   },
   "outputs": [],
   "source": [
    "c.close()"
   ]
  },
  {
   "cell_type": "markdown",
   "metadata": {},
   "source": [
    "## Build a @coroutine decorator"
   ]
  },
  {
   "cell_type": "code",
   "execution_count": 107,
   "metadata": {
    "collapsed": true
   },
   "outputs": [],
   "source": [
    "def coroutine_decorator(func):\n",
    "    def wrap(*args, **kwargs):\n",
    "        cr = func(*args, **kwargs)\n",
    "        next(cr)\n",
    "        return cr\n",
    "    return wrap\n",
    "\n",
    "@coroutine_decorator\n",
    "def coroutine_example():\n",
    "    while True:\n",
    "        x = yield\n",
    "        #do something with x\n",
    "        print(x)"
   ]
  },
  {
   "cell_type": "code",
   "execution_count": 109,
   "metadata": {},
   "outputs": [
    {
     "name": "stdout",
     "output_type": "stream",
     "text": [
      "success!\n"
     ]
    }
   ],
   "source": [
    "c = coroutine_example()\n",
    "c.send('success!')"
   ]
  },
  {
   "cell_type": "markdown",
   "metadata": {},
   "source": [
    "## Consume values with the send method"
   ]
  },
  {
   "cell_type": "code",
   "execution_count": 8,
   "metadata": {},
   "outputs": [],
   "source": [
    "def coroutine_decorator(func):\n",
    "    def wrap(*args, **kwargs):\n",
    "        cr = func(*args, **kwargs)\n",
    "        next(cr)\n",
    "        return cr\n",
    "    return wrap\n",
    "\n",
    "\n",
    "@coroutine_decorator\n",
    "def coroutine_example():\n",
    "    while True:\n",
    "        x = yield\n",
    "        #do something with x\n",
    "        print(x)\n"
   ]
  },
  {
   "cell_type": "code",
   "execution_count": 6,
   "metadata": {},
   "outputs": [],
   "source": [
    "def sender(filename, target):\n",
    "    for line in open(filename):\n",
    "        target.send(line)\n",
    "    target.close()\n",
    "        \n",
    "\n",
    "@coroutine_decorator\n",
    "def match_counter(string):\n",
    "    count = 0\n",
    "    try:\n",
    "        while True:\n",
    "            line = yield\n",
    "            if string in line:\n",
    "                count += 1\n",
    "    except GeneratorExit:\n",
    "        print('{}: {}'.format(string, count))\n",
    "\n",
    "\n",
    "\n",
    "@coroutine_decorator\n",
    "def longer_than(n):\n",
    "    count = 0\n",
    "    try:\n",
    "        while True:\n",
    "            line = yield\n",
    "            if len(line)>n:\n",
    "                print(line)\n",
    "                count += 1\n",
    "    except GeneratorExit:\n",
    "        print('longer than {}: {}'.format(n, count))"
   ]
  },
  {
   "cell_type": "markdown",
   "metadata": {},
   "source": [
    "## Coroutine pipelines"
   ]
  },
  {
   "cell_type": "code",
   "execution_count": 9,
   "metadata": {},
   "outputs": [
    {
     "ename": "FileNotFoundError",
     "evalue": "[Errno 2] No such file or directory: 'names.txt'",
     "output_type": "error",
     "traceback": [
      "\u001b[0;31m---------------------------------------------------------------------------\u001b[0m",
      "\u001b[0;31mFileNotFoundError\u001b[0m                         Traceback (most recent call last)",
      "\u001b[0;32m<ipython-input-9-9cb0937bf805>\u001b[0m in \u001b[0;36m<module>\u001b[0;34m()\u001b[0m\n\u001b[1;32m     26\u001b[0m     \u001b[0mlnames\u001b[0m \u001b[1;33m=\u001b[0m \u001b[0mfile_write\u001b[0m\u001b[1;33m(\u001b[0m\u001b[1;34m'last_names.txt'\u001b[0m\u001b[1;33m)\u001b[0m\u001b[1;33m\u001b[0m\u001b[0m\n\u001b[1;32m     27\u001b[0m     \u001b[0mrouter\u001b[0m \u001b[1;33m=\u001b[0m \u001b[0mrouter\u001b[0m\u001b[1;33m(\u001b[0m\u001b[1;33m)\u001b[0m\u001b[1;33m\u001b[0m\u001b[0m\n\u001b[0;32m---> 28\u001b[0;31m     \u001b[1;32mfor\u001b[0m \u001b[0mname\u001b[0m \u001b[1;32min\u001b[0m \u001b[0mopen\u001b[0m\u001b[1;33m(\u001b[0m\u001b[1;34m'names.txt'\u001b[0m\u001b[1;33m)\u001b[0m\u001b[1;33m:\u001b[0m\u001b[1;33m\u001b[0m\u001b[0m\n\u001b[0m\u001b[1;32m     29\u001b[0m         \u001b[0mrouter\u001b[0m\u001b[1;33m.\u001b[0m\u001b[0msend\u001b[0m\u001b[1;33m(\u001b[0m\u001b[0mname\u001b[0m\u001b[1;33m)\u001b[0m\u001b[1;33m\u001b[0m\u001b[0m\n\u001b[1;32m     30\u001b[0m     \u001b[0mrouter\u001b[0m\u001b[1;33m.\u001b[0m\u001b[0mclose\u001b[0m\u001b[1;33m(\u001b[0m\u001b[1;33m)\u001b[0m\u001b[1;33m\u001b[0m\u001b[0m\n",
      "\u001b[0;31mFileNotFoundError\u001b[0m: [Errno 2] No such file or directory: 'names.txt'"
     ]
    }
   ],
   "source": [
    "@coroutine_decorator\n",
    "def router():\n",
    "    try:\n",
    "        while True:\n",
    "            line = yield\n",
    "            (first, last) = line.split(' ')\n",
    "            fnames.send(first)\n",
    "            lnames.send(last.strip())\n",
    "    except GeneratorExit:\n",
    "        fnames.close()\n",
    "        lnames.close()\n",
    "\n",
    "@coroutine_decorator\n",
    "def file_write(filename):\n",
    "    try:\n",
    "        with open(filename,'a') as file:\n",
    "            while True:\n",
    "                line = yield\n",
    "                file.write(line+'\\n')\n",
    "    except GeneratorExit:\n",
    "        file.close()\n",
    "        print('one file created')\n",
    "\n",
    "if __name__ == \"__main__\":\n",
    "    fnames = file_write('first_names.txt')\n",
    "    lnames = file_write('last_names.txt')\n",
    "    router = router()\n",
    "    for name in open('names.txt'):\n",
    "        router.send(name)\n",
    "    router.close()"
   ]
  },
  {
   "cell_type": "code",
   "execution_count": null,
   "metadata": {
    "collapsed": true
   },
   "outputs": [],
   "source": []
  }
 ],
 "metadata": {
  "anaconda-cloud": {},
  "kernelspec": {
   "display_name": "Python [conda root]",
   "language": "python",
   "name": "conda-root-py"
  },
  "language_info": {
   "codemirror_mode": {
    "name": "ipython",
    "version": 3
   },
   "file_extension": ".py",
   "mimetype": "text/x-python",
   "name": "python",
   "nbconvert_exporter": "python",
   "pygments_lexer": "ipython3",
   "version": "3.5.2"
  }
 },
 "nbformat": 4,
 "nbformat_minor": 1
}
